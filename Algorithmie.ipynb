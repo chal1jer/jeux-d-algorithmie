{
 "cells": [
  {
   "cell_type": "markdown",
   "metadata": {},
   "source": [
    "# 1.Obtenir la liste des diviseurs d'un nombre entier"
   ]
  },
  {
   "cell_type": "code",
   "execution_count": 3,
   "metadata": {},
   "outputs": [
    {
     "data": {
      "text/plain": [
       "[1, 2, 4, 5, 8, 10, 20, 25, 40, 50, 100, 200]"
      ]
     },
     "execution_count": 3,
     "metadata": {},
     "output_type": "execute_result"
    }
   ],
   "source": [
    "def get_dividers(nb):\n",
    "    \n",
    "    dividers_list = []\n",
    "    \n",
    "    for d in range(1, nb + 1):\n",
    "        if nb % d == 0: \n",
    "            dividers_list.append(d)\n",
    "    return dividers_list\n",
    "\n",
    "get_dividers(200)"
   ]
  },
  {
   "cell_type": "markdown",
   "metadata": {},
   "source": [
    "# 2.Tester si un nombre est premier"
   ]
  },
  {
   "cell_type": "code",
   "execution_count": 8,
   "metadata": {},
   "outputs": [
    {
     "name": "stdout",
     "output_type": "stream",
     "text": [
      "Entrez un nb : 9\n"
     ]
    },
    {
     "data": {
      "text/plain": [
       "False"
      ]
     },
     "execution_count": 8,
     "metadata": {},
     "output_type": "execute_result"
    }
   ],
   "source": [
    "def is_prime(nb): \n",
    "    \n",
    "    input(\"Entrez un nb : \")\n",
    "    \n",
    "    if nb < 2:\n",
    "        return False\n",
    "    \n",
    "    for d in range(2, nb):\n",
    "        if nb % d == 0: \n",
    "            return False\n",
    "    return True\n",
    "\n",
    "is_prime(12)"
   ]
  },
  {
   "cell_type": "markdown",
   "metadata": {},
   "source": [
    "# 3.Liste des nombres premiers dans un intervalle"
   ]
  },
  {
   "cell_type": "code",
   "execution_count": 5,
   "metadata": {},
   "outputs": [
    {
     "name": "stdout",
     "output_type": "stream",
     "text": [
      "[2, 3, 5, 7, 11, 13, 17, 19, 23, 29, 31, 37, 41, 43, 47, 53, 59, 61, 67, 71, 73, 79, 83, 89, 97]\n"
     ]
    }
   ],
   "source": [
    "def is_prime(nb): \n",
    "     \n",
    "    if nb < 2:\n",
    "        return False\n",
    "    \n",
    "    for d in range(2, nb):\n",
    "        if nb % d == 0: \n",
    "            return False\n",
    "    return True\n",
    "\n",
    "def get_primes_list(inf, sup):\n",
    "    primes_list = []\n",
    "    for nb in range(inf, sup + 1):\n",
    "        if is_prime(nb):\n",
    "            primes_list.append(nb)\n",
    "    return primes_list\n",
    "\n",
    "print(get_primes_list(1, 100))"
   ]
  },
  {
   "cell_type": "markdown",
   "metadata": {},
   "source": [
    "# 4.Liste des diviseurs qui sont premiers"
   ]
  },
  {
   "cell_type": "code",
   "execution_count": 12,
   "metadata": {},
   "outputs": [
    {
     "name": "stdout",
     "output_type": "stream",
     "text": [
      "[2, 3]\n"
     ]
    }
   ],
   "source": [
    "def is_prime(nb): \n",
    "    \n",
    "    #Renvoie True si nb est premier sinon renvoie False \n",
    "    \n",
    "    if nb < 2:\n",
    "        return False\n",
    "    \n",
    "    for d in range(2, nb):\n",
    "        if nb % d == 0: \n",
    "            return False\n",
    "    return True\n",
    "\n",
    "\n",
    "def get_dividers(nb):\n",
    "    \n",
    "    #Permet d'obtenir la liste des diviseurs d'un nombre\n",
    "    \n",
    "    dividers_list = []\n",
    "    \n",
    "    for divider in range(1, nb + 1):\n",
    "        if nb % divider == 0: \n",
    "            dividers_list.append(divider)\n",
    "    return dividers_list\n",
    "\n",
    "def get_prime_dividers(nb):\n",
    "    dividers_prime_list = []\n",
    "    for divider in get_dividers(nb) :\n",
    "        if is_prime(divider):\n",
    "            dividers_prime_list.append(divider)\n",
    "    return dividers_prime_list\n",
    "\n",
    "print(get_prime_dividers(12))"
   ]
  }
 ],
 "metadata": {
  "kernelspec": {
   "display_name": "Python 3",
   "language": "python",
   "name": "python3"
  },
  "language_info": {
   "codemirror_mode": {
    "name": "ipython",
    "version": 3
   },
   "file_extension": ".py",
   "mimetype": "text/x-python",
   "name": "python",
   "nbconvert_exporter": "python",
   "pygments_lexer": "ipython3",
   "version": "3.8.5"
  }
 },
 "nbformat": 4,
 "nbformat_minor": 4
}
