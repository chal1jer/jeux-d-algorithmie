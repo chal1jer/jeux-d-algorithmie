{
 "cells": [
  {
   "cell_type": "markdown",
   "metadata": {},
   "source": [
    "# 1.Obtenir la liste des diviseurs d'un nombre entier"
   ]
  },
  {
   "cell_type": "code",
   "execution_count": 3,
   "metadata": {},
   "outputs": [
    {
     "data": {
      "text/plain": [
       "[1, 2, 4, 5, 8, 10, 20, 25, 40, 50, 100, 200]"
      ]
     },
     "execution_count": 3,
     "metadata": {},
     "output_type": "execute_result"
    }
   ],
   "source": [
    "def get_dividers(nb):\n",
    "    \n",
    "    dividers_list = []\n",
    "    \n",
    "    for d in range(1, nb + 1):\n",
    "        if nb % d == 0: \n",
    "            dividers_list.append(d)\n",
    "    return dividers_list\n",
    "\n",
    "get_dividers(200)"
   ]
  },
  {
   "cell_type": "markdown",
   "metadata": {},
   "source": [
    "# 2.Tester si un nombre est premier"
   ]
  },
  {
   "cell_type": "code",
   "execution_count": 8,
   "metadata": {},
   "outputs": [
    {
     "name": "stdout",
     "output_type": "stream",
     "text": [
      "Entrez un nb : 9\n"
     ]
    },
    {
     "data": {
      "text/plain": [
       "False"
      ]
     },
     "execution_count": 8,
     "metadata": {},
     "output_type": "execute_result"
    }
   ],
   "source": [
    "def is_prime(nb): \n",
    "    \n",
    "    input(\"Entrez un nb : \")\n",
    "    \n",
    "    if nb < 2:\n",
    "        return False\n",
    "    \n",
    "    for d in range(2, nb):\n",
    "        if nb % d == 0: \n",
    "            return False\n",
    "    return True\n",
    "\n",
    "is_prime(12)"
   ]
  },
  {
   "cell_type": "markdown",
   "metadata": {},
   "source": [
    "# 3.Liste des nombres premiers dans un intervalle"
   ]
  },
  {
   "cell_type": "code",
   "execution_count": 5,
   "metadata": {},
   "outputs": [
    {
     "name": "stdout",
     "output_type": "stream",
     "text": [
      "[2, 3, 5, 7, 11, 13, 17, 19, 23, 29, 31, 37, 41, 43, 47, 53, 59, 61, 67, 71, 73, 79, 83, 89, 97]\n"
     ]
    }
   ],
   "source": [
    "def is_prime(nb): \n",
    "     \n",
    "    if nb < 2:\n",
    "        return False\n",
    "    \n",
    "    for d in range(2, nb):\n",
    "        if nb % d == 0: \n",
    "            return False\n",
    "    return True\n",
    "\n",
    "def get_primes_list(inf, sup):\n",
    "    primes_list = []\n",
    "    for nb in range(inf, sup + 1):\n",
    "        if is_prime(nb):\n",
    "            primes_list.append(nb)\n",
    "    return primes_list\n",
    "\n",
    "print(get_primes_list(1, 100))"
   ]
  },
  {
   "cell_type": "markdown",
   "metadata": {},
   "source": [
    "# 4.Liste des diviseurs qui sont premiers"
   ]
  },
  {
   "cell_type": "code",
   "execution_count": 12,
   "metadata": {},
   "outputs": [
    {
     "name": "stdout",
     "output_type": "stream",
     "text": [
      "[2, 3]\n"
     ]
    }
   ],
   "source": [
    "def is_prime(nb): \n",
    "    \n",
    "    #Renvoie True si nb est premier sinon renvoie False \n",
    "    \n",
    "    if nb < 2:\n",
    "        return False\n",
    "    \n",
    "    for d in range(2, nb):\n",
    "        if nb % d == 0: \n",
    "            return False\n",
    "    return True\n",
    "\n",
    "\n",
    "def get_dividers(nb):\n",
    "    \n",
    "    #Permet d'obtenir la liste des diviseurs d'un nombre\n",
    "    \n",
    "    dividers_list = []\n",
    "    \n",
    "    for divider in range(1, nb + 1):\n",
    "        if nb % divider == 0: \n",
    "            dividers_list.append(divider)\n",
    "    return dividers_list\n",
    "\n",
    "def get_prime_dividers(nb):\n",
    "    dividers_prime_list = []\n",
    "    for divider in get_dividers(nb) :\n",
    "        if is_prime(divider):\n",
    "            dividers_prime_list.append(divider)\n",
    "    return dividers_prime_list\n",
    "\n",
    "print(get_prime_dividers(12))"
   ]
  },
  {
   "cell_type": "markdown",
   "metadata": {},
   "source": [
    "# 5. Liste des nombres premiers de Sophie Germain"
   ]
  },
  {
   "cell_type": "markdown",
   "metadata": {},
   "source": [
    "Un nombre premier G est appelé [nombre premier de Sophie Germain](https://fr.wikipedia.org/wiki/Nombre_premier_de_Sophie_Germain#:~:text=Listes%20de%20nombres%20premiers%20de%20Sophie%20Germain,-Les%20quarante%2Dcinq&text=2%2C%203%2C%205%2C%2011,1%20229%20et%201%20289.) si 2G + 1 est aussi un nombre premier, qui est alors appelé nombre premier sûr.    \n",
    "**Ex :**  \n",
    "G = 3    \n",
    "2x3 + 1 = 7, qui est aussi un nombre premier.  \n",
    "3 est un nombre premier de Sophie Germain.  \n",
    "En revanche si G = 7,  \n",
    "2x7 + 1 = 15, qui n'est pas un nombre premier.  "
   ]
  },
  {
   "cell_type": "code",
   "execution_count": 19,
   "metadata": {},
   "outputs": [
    {
     "name": "stdout",
     "output_type": "stream",
     "text": [
      "[2, 3, 5, 11, 23, 29, 41, 53, 83, 89]\n"
     ]
    }
   ],
   "source": [
    "def is_prime(nb): \n",
    "    \n",
    "    #Renvoie True si nb est premier sinon renvoie False \n",
    "    \n",
    "    if nb < 2:\n",
    "        return False\n",
    "    \n",
    "    for d in range(2, nb):\n",
    "        if nb % d == 0: \n",
    "            return False\n",
    "    return True\n",
    "\n",
    "def is_SG_prime(nb): \n",
    "    if is_prime(nb) and is_prime(2*nb + 1):\n",
    "        return True\n",
    "    else:\n",
    "        return False\n",
    "    \n",
    "def get_list_SG_prime(inf, sup):\n",
    "    list_SG_prime = []\n",
    "    for nb in range(inf, sup+1):\n",
    "        if is_SG_prime(nb):\n",
    "            list_SG_prime.append(nb)\n",
    "    return list_SG_prime\n",
    "\n",
    "print(get_list_SG_prime(1, 100))"
   ]
  },
  {
   "cell_type": "markdown",
   "metadata": {},
   "source": [
    "# 6.Tester si un nombre est une puissance d'un autre nombre"
   ]
  },
  {
   "cell_type": "code",
   "execution_count": 3,
   "metadata": {},
   "outputs": [
    {
     "data": {
      "text/plain": [
       "True"
      ]
     },
     "execution_count": 3,
     "metadata": {},
     "output_type": "execute_result"
    }
   ],
   "source": [
    "def is_power(n, p):\n",
    "    for i in range(1, n):\n",
    "        if i**p == n:\n",
    "            return True\n",
    "        \n",
    "is_power(64, 2)"
   ]
  },
  {
   "cell_type": "markdown",
   "metadata": {},
   "source": [
    "# 7.Tester si un nombre est parfait"
   ]
  },
  {
   "cell_type": "code",
   "execution_count": 7,
   "metadata": {},
   "outputs": [
    {
     "name": "stdout",
     "output_type": "stream",
     "text": [
      "[1, 2, 4, 7, 14, 28]\n",
      "True\n"
     ]
    }
   ],
   "source": [
    "def get_dividers(nb):\n",
    "    \n",
    "    #Permet d'obtenir la liste des diviseurs d'un nombre\n",
    "    \n",
    "    dividers_list = []\n",
    "    \n",
    "    for divider in range(1, nb + 1):\n",
    "        if nb % divider == 0: \n",
    "            dividers_list.append(divider)\n",
    "    return dividers_list\n",
    "\n",
    "def is_perfect(nb):\n",
    "    if sum(get_dividers(nb)[:-1]) == nb:\n",
    "        return True\n",
    "    \n",
    "print(get_dividers(28))\n",
    "print(is_perfect(28))"
   ]
  },
  {
   "cell_type": "markdown",
   "metadata": {},
   "source": [
    "# -- Bonus #1 --"
   ]
  },
  {
   "cell_type": "markdown",
   "metadata": {},
   "source": [
    "## Déterminer le signe chinois d'une personne née après 1900. "
   ]
  },
  {
   "cell_type": "code",
   "execution_count": 10,
   "metadata": {},
   "outputs": [
    {
     "name": "stdout",
     "output_type": "stream",
     "text": [
      "['rat', 'buffle', 'tigre', 'lapin', 'dragon', 'serpent', 'cheval', 'bouc', 'singe', 'coq', 'chien', 'cochon']\n"
     ]
    }
   ],
   "source": [
    "cycle = ['rat', 'buffle', 'tigre', 'lapin', 'dragon', 'serpent', 'cheval', 'bouc', 'singe', 'coq', 'chien', 'cochon']\n",
    "print(cycle)"
   ]
  },
  {
   "cell_type": "code",
   "execution_count": 24,
   "metadata": {},
   "outputs": [
    {
     "name": "stdout",
     "output_type": "stream",
     "text": [
      "Saisissez une année après 1900: 1973\n"
     ]
    }
   ],
   "source": [
    "a = input('Saisissez une année après 1900: ')"
   ]
  },
  {
   "cell_type": "code",
   "execution_count": 26,
   "metadata": {},
   "outputs": [
    {
     "data": {
      "text/plain": [
       "1"
      ]
     },
     "execution_count": 26,
     "metadata": {},
     "output_type": "execute_result"
    }
   ],
   "source": [
    "ordre = (int(a) - 1900)%12\n",
    "ordre"
   ]
  },
  {
   "cell_type": "code",
   "execution_count": 27,
   "metadata": {},
   "outputs": [
    {
     "name": "stdout",
     "output_type": "stream",
     "text": [
      "buffle\n"
     ]
    }
   ],
   "source": [
    "print(cycle[ordre])"
   ]
  },
  {
   "cell_type": "markdown",
   "metadata": {},
   "source": [
    "# 8.Liste des nombres parfaits dans un intervalle"
   ]
  },
  {
   "cell_type": "code",
   "execution_count": 7,
   "metadata": {},
   "outputs": [
    {
     "name": "stdout",
     "output_type": "stream",
     "text": [
      "[6, 28, 496]\n"
     ]
    }
   ],
   "source": [
    "def get_dividers(nb):\n",
    "    \n",
    "    #Permet d'obtenir la liste des diviseurs d'un nombre\n",
    "    \n",
    "    dividers_list = []\n",
    "    \n",
    "    for divider in range(1, nb + 1):\n",
    "        if nb % divider == 0: \n",
    "            dividers_list.append(divider)\n",
    "            \n",
    "    return dividers_list\n",
    "\n",
    "def is_perfect(nb):   \n",
    "    if sum(get_dividers(nb)[:-1]) == nb:\n",
    "        return True\n",
    "    \n",
    "def get_perfect_numbers_list(inf, sup):\n",
    "    perfect_numbers_list = []\n",
    "    for i in range(inf, sup + 1):\n",
    "        if is_perfect(i):\n",
    "            perfect_numbers_list.append(i)\n",
    "    return perfect_numbers_list\n",
    "    \n",
    "    \n",
    "# print(get_dividers(28))\n",
    "print(get_perfect_numbers_list(1, 1000))"
   ]
  },
  {
   "cell_type": "markdown",
   "metadata": {},
   "source": [
    "# 9.Recherche du minimum d'une liste"
   ]
  },
  {
   "cell_type": "code",
   "execution_count": 28,
   "metadata": {},
   "outputs": [
    {
     "name": "stdout",
     "output_type": "stream",
     "text": [
      "-7\n"
     ]
    }
   ],
   "source": [
    "def minimum(liste): \n",
    "    min_value = liste[0]\n",
    "    for nb in liste : \n",
    "        if nb < min_value:\n",
    "            min_value = nb\n",
    "    return min_value\n",
    "\n",
    "liste = [1, 2, 3, -1, 5, 98, 5, 6, 1084, 455, -7]\n",
    "print(minimum(liste))"
   ]
  },
  {
   "cell_type": "code",
   "execution_count": 31,
   "metadata": {},
   "outputs": [
    {
     "name": "stdout",
     "output_type": "stream",
     "text": [
      "-7\n"
     ]
    }
   ],
   "source": [
    "# Autre solution\n",
    "\n",
    "def recursion_min_list(liste, i = 0, min_list = 0):\n",
    "    if i < len(liste):\n",
    "        if i == 0 or liste(i) < min(liste):\n",
    "            min_list = liste[i]\n",
    "        min_list = recursion_min_list(liste, i + 1, min_liste)\n",
    "    return(min_liste)\n",
    "\n",
    "liste = [1, 2, 3, -1, 5, 98, 5, 6, 1084, 455, -7]\n",
    "print(minimum(liste))"
   ]
  },
  {
   "cell_type": "markdown",
   "metadata": {},
   "source": [
    "# 10.Recherche du maximum d'une liste"
   ]
  },
  {
   "cell_type": "code",
   "execution_count": 2,
   "metadata": {},
   "outputs": [
    {
     "name": "stdout",
     "output_type": "stream",
     "text": [
      "1084\n"
     ]
    }
   ],
   "source": [
    "# Solution 1\n",
    "\n",
    "def maximum(liste):\n",
    "    max_value = liste[0]\n",
    "    for nb in liste:\n",
    "        if nb > max_value:\n",
    "            max_value = nb\n",
    "    return max_value\n",
    "\n",
    "liste = [1, 2, 3, -1, 5, 98, 5, 6, 1084, 455, -7]\n",
    "print(maximum(liste))"
   ]
  },
  {
   "cell_type": "code",
   "execution_count": 5,
   "metadata": {},
   "outputs": [
    {
     "name": "stdout",
     "output_type": "stream",
     "text": [
      "1084\n"
     ]
    }
   ],
   "source": [
    "# Solution 2\n",
    "def recursion_max_liste(liste, i = 0, max_value = 0):\n",
    "    if i < len(liste):\n",
    "        if i == 0 or liste[i] > max_value:\n",
    "            max_value = liste[i]\n",
    "        max_value = recursion_max_liste(liste, i + 1, max_value)\n",
    "    return max_value\n",
    "        \n",
    "        \n",
    "liste = [1, 2, 3, -1, 5, 98, 5, 6, 1084, 455, -7]\n",
    "print(recursion_max_liste(liste))"
   ]
  },
  {
   "cell_type": "markdown",
   "metadata": {},
   "source": [
    "# 11.L'algorithme de Heron"
   ]
  },
  {
   "cell_type": "code",
   "execution_count": null,
   "metadata": {},
   "outputs": [],
   "source": [
    "# Détermine les valeur approchées de racine de n, pour l'entier naturel n\n",
    "# u1 = n\n",
    "# u2 = 0.5*(u1 + n/1)\n",
    "# u3 = 0.5*(u2 + n/u2)"
   ]
  },
  {
   "cell_type": "code",
   "execution_count": 9,
   "metadata": {},
   "outputs": [
    {
     "name": "stdout",
     "output_type": "stream",
     "text": [
      "1.4142156862745097\n",
      "1.4142135623730951\n"
     ]
    }
   ],
   "source": [
    "from math import * \n",
    "\n",
    "def heron(n, p):\n",
    "    # n est le nombre recherché et p est la précision\n",
    "    u = n\n",
    "    while(u - sqrt(n) > p):\n",
    "        u = 0.5*(u + n/u)\n",
    "    return u\n",
    "\n",
    "\n",
    "print(heron(2, 10**-4))\n",
    "print(sqrt(2))"
   ]
  },
  {
   "cell_type": "markdown",
   "metadata": {},
   "source": [
    "# 12.Échanger les valeurs de 2 variables"
   ]
  },
  {
   "cell_type": "code",
   "execution_count": 1,
   "metadata": {},
   "outputs": [
    {
     "name": "stdout",
     "output_type": "stream",
     "text": [
      "3\n",
      "5\n"
     ]
    }
   ],
   "source": [
    "def switch_value(a, b):\n",
    "    temp = a\n",
    "    a = b\n",
    "    b = temp\n",
    "    return a,b\n",
    "\n",
    "a = 5\n",
    "b = 3\n",
    "a, b = switch_value(a, b)\n",
    "print(a)\n",
    "print(b)"
   ]
  },
  {
   "cell_type": "code",
   "execution_count": 2,
   "metadata": {},
   "outputs": [
    {
     "name": "stdout",
     "output_type": "stream",
     "text": [
      "3\n",
      "5\n"
     ]
    }
   ],
   "source": [
    "a = 5\n",
    "b = 3 \n",
    "a, b = b, a\n",
    "print(a)\n",
    "print(b)"
   ]
  },
  {
   "cell_type": "markdown",
   "metadata": {},
   "source": [
    "# 13.Tri à bulles"
   ]
  },
  {
   "cell_type": "code",
   "execution_count": 11,
   "metadata": {},
   "outputs": [
    {
     "name": "stdout",
     "output_type": "stream",
     "text": [
      "[5, 10, 20, 4]\n",
      "[5, 10, 20, 4]\n",
      "[5, 10, 20, 4]\n",
      "[5, 10, 4, 20]\n",
      "[5, 10, 4, 20]\n",
      "[5, 4, 10, 20]\n",
      "[4, 5, 10, 20]\n"
     ]
    }
   ],
   "source": [
    "def bubble_sort(liste):\n",
    "    permutation = True\n",
    "    j = 0\n",
    "    while permutation : \n",
    "        permutation = False\n",
    "        j = j + 1\n",
    "        for i in range(0, len(liste) - j):\n",
    "            print(liste)\n",
    "            if liste[i] > liste[i + 1]:\n",
    "                liste[i], liste[i + 1] = liste[i + 1], liste[i]\n",
    "                permutation = True\n",
    "    return liste\n",
    "\n",
    "liste = [5, 10, 20, 4]\n",
    "liste = bubble_sort(liste)\n",
    "print(liste)"
   ]
  },
  {
   "cell_type": "markdown",
   "metadata": {},
   "source": [
    "# 14.Somme des éléments d'une liste"
   ]
  },
  {
   "cell_type": "code",
   "execution_count": 14,
   "metadata": {},
   "outputs": [
    {
     "name": "stdout",
     "output_type": "stream",
     "text": [
      "39\n",
      "39\n"
     ]
    }
   ],
   "source": [
    "def somme(liste): \n",
    "    total = 0\n",
    "    for nombre in liste:\n",
    "        total += nombre\n",
    "    return total\n",
    "    \n",
    "liste = [5, 10, 20, 4]\n",
    "print(somme(liste))\n",
    "print(sum(liste))"
   ]
  },
  {
   "cell_type": "code",
   "execution_count": 16,
   "metadata": {},
   "outputs": [
    {
     "name": "stdout",
     "output_type": "stream",
     "text": [
      "39\n",
      "39\n"
     ]
    }
   ],
   "source": [
    "def somme_recursion(liste, indice = 0):\n",
    "    total = 0\n",
    "    if indice < len(liste):\n",
    "        total = liste[indice]\n",
    "        total += somme_recursion(liste, indice + 1)\n",
    "    return total\n",
    "\n",
    "liste = [5, 10, 20, 4]\n",
    "print(somme_recursion(liste))\n",
    "print(sum(liste))"
   ]
  },
  {
   "cell_type": "markdown",
   "metadata": {},
   "source": [
    "# 15.La moyenne arithmétique"
   ]
  },
  {
   "cell_type": "code",
   "execution_count": 23,
   "metadata": {},
   "outputs": [
    {
     "name": "stdout",
     "output_type": "stream",
     "text": [
      "3.0\n"
     ]
    }
   ],
   "source": [
    "def moy_arithmetique(liste):\n",
    "    return (1/len(liste) * sum(liste))\n",
    "\n",
    "liste = [1, 2, 3, 4, 5]\n",
    "print(moy_arithmetique(liste))"
   ]
  },
  {
   "cell_type": "markdown",
   "metadata": {},
   "source": [
    "# 16.La moyenne harmonique"
   ]
  },
  {
   "cell_type": "code",
   "execution_count": 5,
   "metadata": {},
   "outputs": [
    {
     "name": "stdout",
     "output_type": "stream",
     "text": [
      "47.99999999999999\n"
     ]
    }
   ],
   "source": [
    "def moy_harmonique(liste):\n",
    "    sum_liste = 0\n",
    "    for nb in liste:\n",
    "        sum_liste += (1/nb)\n",
    "    return len(liste) / sum_liste\n",
    "\n",
    "liste = [40, 60]\n",
    "print(moy_harmonique(liste))"
   ]
  },
  {
   "cell_type": "code",
   "execution_count": 6,
   "metadata": {},
   "outputs": [
    {
     "data": {
      "text/plain": [
       "48.0"
      ]
     },
     "execution_count": 6,
     "metadata": {},
     "output_type": "execute_result"
    }
   ],
   "source": [
    "from statistics import *\n",
    "\n",
    "liste = [40, 60]\n",
    "harmonic_mean(liste)"
   ]
  },
  {
   "cell_type": "markdown",
   "metadata": {},
   "source": [
    "# 17.La moyenne quadratique"
   ]
  },
  {
   "cell_type": "code",
   "execution_count": 13,
   "metadata": {},
   "outputs": [
    {
     "name": "stdout",
     "output_type": "stream",
     "text": [
      "6.2048368229954285\n"
     ]
    }
   ],
   "source": [
    "def moy_quadratique(liste):\n",
    "    sum_liste = 0\n",
    "    for nb in liste:\n",
    "        sum_liste += nb**2\n",
    "    return (1/len(liste) * sum_liste)**(1/2)\n",
    "\n",
    "liste = [1, 2, 3, 4, 5, 6, 7, 8, 9, 10]\n",
    "print(moy_quadratique(liste))"
   ]
  },
  {
   "cell_type": "markdown",
   "metadata": {},
   "source": [
    "# 18.La moyenne géométrique"
   ]
  },
  {
   "cell_type": "code",
   "execution_count": 17,
   "metadata": {},
   "outputs": [
    {
     "name": "stdout",
     "output_type": "stream",
     "text": [
      "4.528728688116765\n"
     ]
    }
   ],
   "source": [
    "def moy_geometrique(liste):\n",
    "    product_list = 1\n",
    "    for nb in liste:\n",
    "        product_list *= nb\n",
    "    return product_list** (1/len(liste))\n",
    "    \n",
    "\n",
    "liste = [1, 2, 3, 4, 5, 6, 7, 8, 9, 10]\n",
    "print(moy_geometrique(liste))"
   ]
  },
  {
   "cell_type": "code",
   "execution_count": 18,
   "metadata": {},
   "outputs": [
    {
     "name": "stdout",
     "output_type": "stream",
     "text": [
      "4.528728688116765\n"
     ]
    }
   ],
   "source": [
    "# from statistics import *\n",
    "\n",
    "print(geometric_mean(liste))"
   ]
  },
  {
   "cell_type": "markdown",
   "metadata": {},
   "source": [
    "# 19.La variance"
   ]
  },
  {
   "cell_type": "code",
   "execution_count": 24,
   "metadata": {},
   "outputs": [
    {
     "name": "stdout",
     "output_type": "stream",
     "text": [
      "10.625\n",
      "54.984375\n"
     ]
    }
   ],
   "source": [
    "def moyenne(liste):\n",
    "    return (1/len(liste)) * sum(liste)\n",
    "\n",
    "def calc_variance(liste):\n",
    "    moy = moyenne(liste)\n",
    "    var = 0\n",
    "    for nb in liste:\n",
    "        var += (nb - moy)**2\n",
    "    return (1/len(liste)) * var\n",
    "\n",
    "notes_maths = [0, 10, 20, 15, 13, 7, 0, 20]\n",
    "\n",
    "print(moyenne(notes_maths))\n",
    "print(calc_variance(notes_maths))"
   ]
  },
  {
   "cell_type": "code",
   "execution_count": 20,
   "metadata": {},
   "outputs": [
    {
     "name": "stdout",
     "output_type": "stream",
     "text": [
      "54.984375\n"
     ]
    }
   ],
   "source": [
    "# from statistics import *\n",
    "\n",
    "print(pvariance(notes_maths))"
   ]
  },
  {
   "cell_type": "code",
   "execution_count": 28,
   "metadata": {},
   "outputs": [
    {
     "name": "stdout",
     "output_type": "stream",
     "text": [
      "7.415144974981946\n",
      "7.415144974981946\n"
     ]
    }
   ],
   "source": [
    "# Calcul de l'écart-type (standard deviation)\n",
    "print(calc_variance(notes_maths)**(1/2))\n",
    "print(pstdev(notes_maths))"
   ]
  },
  {
   "cell_type": "markdown",
   "metadata": {},
   "source": [
    "# 20.Valeur factorielle"
   ]
  },
  {
   "cell_type": "code",
   "execution_count": 2,
   "metadata": {},
   "outputs": [],
   "source": [
    "# ex: 4! = 4*3*2*1\n",
    "\n",
    "def factorial(nb):\n",
    "    if nb == 0 or nb == 1:\n",
    "        return 1\n",
    "    product = 1\n",
    "    for num in range(1, nb+1):\n",
    "        product = product*num\n",
    "    return product"
   ]
  },
  {
   "cell_type": "code",
   "execution_count": 4,
   "metadata": {},
   "outputs": [
    {
     "data": {
      "text/plain": [
       "6"
      ]
     },
     "execution_count": 4,
     "metadata": {},
     "output_type": "execute_result"
    }
   ],
   "source": [
    "factorial(3)"
   ]
  },
  {
   "cell_type": "code",
   "execution_count": 5,
   "metadata": {},
   "outputs": [],
   "source": [
    "def recursion_factorial(nb):\n",
    "    if nb == 0 or nb == 1:\n",
    "        return 1\n",
    "    return nb * recursion_factorial(nb-1)"
   ]
  },
  {
   "cell_type": "code",
   "execution_count": 8,
   "metadata": {},
   "outputs": [
    {
     "data": {
      "text/plain": [
       "720"
      ]
     },
     "execution_count": 8,
     "metadata": {},
     "output_type": "execute_result"
    }
   ],
   "source": [
    "factorial(6)"
   ]
  },
  {
   "cell_type": "markdown",
   "metadata": {},
   "source": [
    "# 21.Recréer la fonction len()"
   ]
  },
  {
   "cell_type": "code",
   "execution_count": 9,
   "metadata": {},
   "outputs": [
    {
     "data": {
      "text/plain": [
       "3"
      ]
     },
     "execution_count": 9,
     "metadata": {},
     "output_type": "execute_result"
    }
   ],
   "source": [
    "liste = [1, 2, 3]\n",
    "len(liste)"
   ]
  },
  {
   "cell_type": "code",
   "execution_count": 13,
   "metadata": {},
   "outputs": [
    {
     "name": "stdout",
     "output_type": "stream",
     "text": [
      "3\n"
     ]
    }
   ],
   "source": [
    "def length(liste):\n",
    "    total = 0\n",
    "    for element in liste:\n",
    "        total += 1\n",
    "    return total\n",
    "\n",
    "liste = ['Jean', 'Boris', 'John']\n",
    "print(length(liste))"
   ]
  },
  {
   "cell_type": "markdown",
   "metadata": {},
   "source": [
    "# 22.Calculer la puissance d'un nombre"
   ]
  },
  {
   "cell_type": "code",
   "execution_count": 14,
   "metadata": {},
   "outputs": [
    {
     "data": {
      "text/plain": [
       "8"
      ]
     },
     "execution_count": 14,
     "metadata": {},
     "output_type": "execute_result"
    }
   ],
   "source": [
    "2**3"
   ]
  },
  {
   "cell_type": "code",
   "execution_count": 21,
   "metadata": {},
   "outputs": [
    {
     "name": "stdout",
     "output_type": "stream",
     "text": [
      "8\n",
      "8\n",
      "0.25\n",
      "0.25\n"
     ]
    }
   ],
   "source": [
    "def puissance(n, p):\n",
    "    if p == 0:\n",
    "        return 1\n",
    "    else:\n",
    "        total = 1\n",
    "        if p > 0:\n",
    "            for i in range(p):\n",
    "                total *= n\n",
    "        else:\n",
    "            for i in range(abs(p)):\n",
    "                total *= (1/n)\n",
    "        return total\n",
    "    \n",
    "print(puissance(2, 3))\n",
    "print(2**3)\n",
    "print(puissance(4, -1))\n",
    "print(4**(-1))"
   ]
  },
  {
   "cell_type": "markdown",
   "metadata": {},
   "source": [
    "# 23.Somme des puissances d'un nombre"
   ]
  },
  {
   "cell_type": "code",
   "execution_count": 5,
   "metadata": {},
   "outputs": [
    {
     "name": "stdout",
     "output_type": "stream",
     "text": [
      "21\n"
     ]
    }
   ],
   "source": [
    "def puissance(n, p):\n",
    "    if p == 0:\n",
    "        return 1\n",
    "    else:\n",
    "        total = 1\n",
    "        if p > 0:\n",
    "            for i in range(p):\n",
    "                total *= n\n",
    "        else:\n",
    "            for i in range(abs(p)):\n",
    "                total *= (1/n)\n",
    "        return total\n",
    "    \n",
    "def somme_puissance(n, k):\n",
    "    total = 0\n",
    "    for i in range (k + 1):\n",
    "        total += n**i\n",
    "    return total\n",
    "    \n",
    "print(somme_puissance(4, 2))"
   ]
  },
  {
   "cell_type": "markdown",
   "metadata": {},
   "source": [
    "# 24.Obtenir les diviseurs d'un nombre entier"
   ]
  },
  {
   "cell_type": "code",
   "execution_count": 3,
   "metadata": {},
   "outputs": [
    {
     "data": {
      "text/plain": [
       "[1, 2, 4, 5, 8, 10, 20, 25, 40, 50, 100, 200]"
      ]
     },
     "execution_count": 3,
     "metadata": {},
     "output_type": "execute_result"
    }
   ],
   "source": [
    "def get_dividers(nb):\n",
    "    dividers_list = []\n",
    "    for d in range(1, nb + 1):\n",
    "        if nb % d == 0:\n",
    "            dividers_list.append(d)\n",
    "    return dividers_list\n",
    "\n",
    "get_dividers(200)"
   ]
  },
  {
   "cell_type": "code",
   "execution_count": null,
   "metadata": {},
   "outputs": [],
   "source": []
  }
 ],
 "metadata": {
  "kernelspec": {
   "display_name": "Python 3",
   "language": "python",
   "name": "python3"
  },
  "language_info": {
   "codemirror_mode": {
    "name": "ipython",
    "version": 3
   },
   "file_extension": ".py",
   "mimetype": "text/x-python",
   "name": "python",
   "nbconvert_exporter": "python",
   "pygments_lexer": "ipython3",
   "version": "3.8.5"
  }
 },
 "nbformat": 4,
 "nbformat_minor": 4
}
